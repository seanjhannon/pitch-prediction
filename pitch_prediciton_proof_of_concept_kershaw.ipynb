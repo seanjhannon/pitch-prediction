{
  "nbformat": 4,
  "nbformat_minor": 0,
  "metadata": {
    "colab": {
      "provenance": [],
      "collapsed_sections": [
        "XoATRYib9Ach",
        "TdN5rKrFFqhY"
      ],
      "authorship_tag": "ABX9TyMDRTXtrADTeyhZqH1kvUC2",
      "include_colab_link": true
    },
    "kernelspec": {
      "name": "python3",
      "display_name": "Python 3"
    },
    "language_info": {
      "name": "python"
    }
  },
  "cells": [
    {
      "cell_type": "markdown",
      "metadata": {
        "id": "view-in-github",
        "colab_type": "text"
      },
      "source": [
        "<a href=\"https://colab.research.google.com/github/seanjhannon/pitch-prediction/blob/main/pitch_prediciton_proof_of_concept_kershaw.ipynb\" target=\"_parent\"><img src=\"https://colab.research.google.com/assets/colab-badge.svg\" alt=\"Open In Colab\"/></a>"
      ]
    },
    {
      "cell_type": "markdown",
      "source": [
        "# Imports and Data Loading"
      ],
      "metadata": {
        "id": "HcXAS51hG39x"
      }
    },
    {
      "cell_type": "code",
      "source": [
        "pip install pybaseball"
      ],
      "metadata": {
        "colab": {
          "base_uri": "https://localhost:8080/"
        },
        "id": "CrCq2IxilW2S",
        "outputId": "760b57f8-d69f-4e1e-da4e-7fa3fdc12b4c"
      },
      "execution_count": 2,
      "outputs": [
        {
          "output_type": "stream",
          "name": "stdout",
          "text": [
            "Collecting pybaseball\n",
            "  Downloading pybaseball-2.2.7-py3-none-any.whl (426 kB)\n",
            "\u001b[2K     \u001b[90m━━━━━━━━━━━━━━━━━━━━━━━━━━━━━━━━━━━━━━━━\u001b[0m \u001b[32m426.1/426.1 kB\u001b[0m \u001b[31m3.5 MB/s\u001b[0m eta \u001b[36m0:00:00\u001b[0m\n",
            "\u001b[?25hRequirement already satisfied: numpy>=1.13.0 in /usr/local/lib/python3.10/dist-packages (from pybaseball) (1.25.2)\n",
            "Requirement already satisfied: pandas>=1.0.3 in /usr/local/lib/python3.10/dist-packages (from pybaseball) (2.0.3)\n",
            "Requirement already satisfied: beautifulsoup4>=4.4.0 in /usr/local/lib/python3.10/dist-packages (from pybaseball) (4.12.3)\n",
            "Requirement already satisfied: requests>=2.18.1 in /usr/local/lib/python3.10/dist-packages (from pybaseball) (2.31.0)\n",
            "Requirement already satisfied: lxml>=4.2.1 in /usr/local/lib/python3.10/dist-packages (from pybaseball) (4.9.4)\n",
            "Requirement already satisfied: pyarrow>=1.0.1 in /usr/local/lib/python3.10/dist-packages (from pybaseball) (14.0.2)\n",
            "Collecting pygithub>=1.51 (from pybaseball)\n",
            "  Downloading PyGithub-2.3.0-py3-none-any.whl (354 kB)\n",
            "\u001b[2K     \u001b[90m━━━━━━━━━━━━━━━━━━━━━━━━━━━━━━━━━━━━━━━━\u001b[0m \u001b[32m354.4/354.4 kB\u001b[0m \u001b[31m2.8 MB/s\u001b[0m eta \u001b[36m0:00:00\u001b[0m\n",
            "\u001b[?25hRequirement already satisfied: scipy>=1.4.0 in /usr/local/lib/python3.10/dist-packages (from pybaseball) (1.11.4)\n",
            "Requirement already satisfied: matplotlib>=2.0.0 in /usr/local/lib/python3.10/dist-packages (from pybaseball) (3.7.1)\n",
            "Requirement already satisfied: tqdm>=4.50.0 in /usr/local/lib/python3.10/dist-packages (from pybaseball) (4.66.2)\n",
            "Requirement already satisfied: attrs>=20.3.0 in /usr/local/lib/python3.10/dist-packages (from pybaseball) (23.2.0)\n",
            "Requirement already satisfied: soupsieve>1.2 in /usr/local/lib/python3.10/dist-packages (from beautifulsoup4>=4.4.0->pybaseball) (2.5)\n",
            "Requirement already satisfied: contourpy>=1.0.1 in /usr/local/lib/python3.10/dist-packages (from matplotlib>=2.0.0->pybaseball) (1.2.1)\n",
            "Requirement already satisfied: cycler>=0.10 in /usr/local/lib/python3.10/dist-packages (from matplotlib>=2.0.0->pybaseball) (0.12.1)\n",
            "Requirement already satisfied: fonttools>=4.22.0 in /usr/local/lib/python3.10/dist-packages (from matplotlib>=2.0.0->pybaseball) (4.50.0)\n",
            "Requirement already satisfied: kiwisolver>=1.0.1 in /usr/local/lib/python3.10/dist-packages (from matplotlib>=2.0.0->pybaseball) (1.4.5)\n",
            "Requirement already satisfied: packaging>=20.0 in /usr/local/lib/python3.10/dist-packages (from matplotlib>=2.0.0->pybaseball) (24.0)\n",
            "Requirement already satisfied: pillow>=6.2.0 in /usr/local/lib/python3.10/dist-packages (from matplotlib>=2.0.0->pybaseball) (9.4.0)\n",
            "Requirement already satisfied: pyparsing>=2.3.1 in /usr/local/lib/python3.10/dist-packages (from matplotlib>=2.0.0->pybaseball) (3.1.2)\n",
            "Requirement already satisfied: python-dateutil>=2.7 in /usr/local/lib/python3.10/dist-packages (from matplotlib>=2.0.0->pybaseball) (2.8.2)\n",
            "Requirement already satisfied: pytz>=2020.1 in /usr/local/lib/python3.10/dist-packages (from pandas>=1.0.3->pybaseball) (2023.4)\n",
            "Requirement already satisfied: tzdata>=2022.1 in /usr/local/lib/python3.10/dist-packages (from pandas>=1.0.3->pybaseball) (2024.1)\n",
            "Collecting pynacl>=1.4.0 (from pygithub>=1.51->pybaseball)\n",
            "  Downloading PyNaCl-1.5.0-cp36-abi3-manylinux_2_17_x86_64.manylinux2014_x86_64.manylinux_2_24_x86_64.whl (856 kB)\n",
            "\u001b[2K     \u001b[90m━━━━━━━━━━━━━━━━━━━━━━━━━━━━━━━━━━━━━━━━\u001b[0m \u001b[32m856.7/856.7 kB\u001b[0m \u001b[31m8.1 MB/s\u001b[0m eta \u001b[36m0:00:00\u001b[0m\n",
            "\u001b[?25hCollecting pyjwt[crypto]>=2.4.0 (from pygithub>=1.51->pybaseball)\n",
            "  Downloading PyJWT-2.8.0-py3-none-any.whl (22 kB)\n",
            "Requirement already satisfied: typing-extensions>=4.0.0 in /usr/local/lib/python3.10/dist-packages (from pygithub>=1.51->pybaseball) (4.10.0)\n",
            "Requirement already satisfied: urllib3>=1.26.0 in /usr/local/lib/python3.10/dist-packages (from pygithub>=1.51->pybaseball) (2.0.7)\n",
            "Collecting Deprecated (from pygithub>=1.51->pybaseball)\n",
            "  Downloading Deprecated-1.2.14-py2.py3-none-any.whl (9.6 kB)\n",
            "Requirement already satisfied: charset-normalizer<4,>=2 in /usr/local/lib/python3.10/dist-packages (from requests>=2.18.1->pybaseball) (3.3.2)\n",
            "Requirement already satisfied: idna<4,>=2.5 in /usr/local/lib/python3.10/dist-packages (from requests>=2.18.1->pybaseball) (3.6)\n",
            "Requirement already satisfied: certifi>=2017.4.17 in /usr/local/lib/python3.10/dist-packages (from requests>=2.18.1->pybaseball) (2024.2.2)\n",
            "Requirement already satisfied: cryptography>=3.4.0 in /usr/local/lib/python3.10/dist-packages (from pyjwt[crypto]>=2.4.0->pygithub>=1.51->pybaseball) (42.0.5)\n",
            "Requirement already satisfied: cffi>=1.4.1 in /usr/local/lib/python3.10/dist-packages (from pynacl>=1.4.0->pygithub>=1.51->pybaseball) (1.16.0)\n",
            "Requirement already satisfied: six>=1.5 in /usr/local/lib/python3.10/dist-packages (from python-dateutil>=2.7->matplotlib>=2.0.0->pybaseball) (1.16.0)\n",
            "Requirement already satisfied: wrapt<2,>=1.10 in /usr/local/lib/python3.10/dist-packages (from Deprecated->pygithub>=1.51->pybaseball) (1.14.1)\n",
            "Requirement already satisfied: pycparser in /usr/local/lib/python3.10/dist-packages (from cffi>=1.4.1->pynacl>=1.4.0->pygithub>=1.51->pybaseball) (2.22)\n",
            "Installing collected packages: pyjwt, Deprecated, pynacl, pygithub, pybaseball\n",
            "  Attempting uninstall: pyjwt\n",
            "    Found existing installation: PyJWT 2.3.0\n",
            "    Uninstalling PyJWT-2.3.0:\n",
            "      Successfully uninstalled PyJWT-2.3.0\n",
            "Successfully installed Deprecated-1.2.14 pybaseball-2.2.7 pygithub-2.3.0 pyjwt-2.8.0 pynacl-1.5.0\n"
          ]
        }
      ]
    },
    {
      "cell_type": "code",
      "execution_count": 3,
      "metadata": {
        "id": "SpMA96rCGsw8"
      },
      "outputs": [],
      "source": [
        "import numpy as np\n",
        "import pandas as pd\n",
        "import matplotlib.pyplot as plt\n",
        "import seaborn as sns\n",
        "import datetime as dt\n",
        "\n",
        "\n",
        "# pybaseball imports\n",
        "from pybaseball import  playerid_lookup\n",
        "from pybaseball import  statcast_pitcher\n",
        "from pybaseball import statcast_batter\n",
        "from pybaseball import statcast_running\n",
        "from pybaseball import playerid_reverse_lookup\n",
        "from pybaseball import batting_stats\n",
        "from pybaseball import get_splits\n",
        "from pybaseball import team_game_logs\n",
        "\n",
        "from sklearn.base import BaseEstimator, TransformerMixin\n",
        "\n",
        "from sklearn.impute import SimpleImputer\n",
        "from sklearn.preprocessing import OneHotEncoder\n",
        "from sklearn.pipeline import Pipeline\n",
        "from sklearn.compose import ColumnTransformer\n",
        "from sklearn.preprocessing import StandardScaler\n",
        "from sklearn.model_selection import train_test_split\n",
        "import xgboost as xgb\n",
        "from sklearn.metrics import classification_report, confusion_matrix\n",
        "\n"
      ]
    },
    {
      "cell_type": "code",
      "source": [
        "def get_pitches(\n",
        "    fname: str,\n",
        "    lname: str,\n",
        "):\n",
        "  \"\"\"\n",
        "  Returns all pitches for a specified pitcher between the start of hhis career (or 2008) and today.\n",
        "\n",
        "  Params\n",
        "    fname (string): Pitcher's first name.\n",
        "    lname (string): Pitcher's last name.\n",
        "\n",
        "  Returns\n",
        "    pitches (pandas DataFrame): DataFrame of statcast data for all pitches in the player's career.\n",
        "  \"\"\"\n",
        "  # Search for player 'lookup' - returns their metadata\n",
        "  player_lookup = playerid_lookup(lname, fname)\n",
        "\n",
        "  if len(player_lookup) != 1:\n",
        "    print(f'Player Lookup returned {len(player_lookup)} results. Please double-check inputs and try again.')\n",
        "    return None\n",
        "\n",
        "  # Collect the player's lmbam_id and start and end of his career\n",
        "  player_id = player_lookup['key_mlbam'][0]\n",
        "  player_career_start = int(player_lookup['mlb_played_first'][0])\n",
        "  player_career_end = int(player_lookup['mlb_played_last'][0])\n",
        "\n",
        "  # Separately define the start and end dates for our pitching stats query and format them as str\n",
        "  pitching_start = dt.date(player_career_start, 1, 1).strftime('%Y-%m-%d') # Jan 1 of their first career year\n",
        "  pitching_end = dt.date.today().strftime('%Y-%m-%d') # Ok to overshoot the end date, maybe revisit this later\n",
        "\n",
        "  pitches = statcast_pitcher(start_dt=pitching_start,\n",
        "                             end_dt=pitching_end,\n",
        "                             player_id=player_id)\n",
        "\n",
        "  if len(pitches) == 0:\n",
        "    print(f'No pitches found for {fname} {lname}')\n",
        "\n",
        "  return pitches"
      ],
      "metadata": {
        "id": "R84Jm9cxNZgG"
      },
      "execution_count": 4,
      "outputs": []
    },
    {
      "cell_type": "code",
      "source": [
        "# Pull data for a single pitcher\n",
        "\n",
        "kershaw_lookup = get_pitches('clayton', 'kershaw')"
      ],
      "metadata": {
        "colab": {
          "base_uri": "https://localhost:8080/"
        },
        "id": "jTj1uTDKUC11",
        "outputId": "6a1bd796-247b-4a5f-e865-31ae94fad42a"
      },
      "execution_count": 5,
      "outputs": [
        {
          "output_type": "stream",
          "name": "stdout",
          "text": [
            "Gathering player lookup table. This may take a moment.\n",
            "Gathering Player Data\n"
          ]
        },
        {
          "output_type": "stream",
          "name": "stderr",
          "text": [
            "/usr/local/lib/python3.10/dist-packages/pybaseball/utils.py:295: DtypeWarning: Columns (43,87,88) have mixed types. Specify dtype option on import or set low_memory=False.\n",
            "  df = pd.read_csv(io.StringIO(data.text))\n"
          ]
        }
      ]
    },
    {
      "cell_type": "code",
      "source": [
        "kershaw_lookup.columns"
      ],
      "metadata": {
        "colab": {
          "base_uri": "https://localhost:8080/"
        },
        "id": "zl_lUo17UoED",
        "outputId": "66d53f50-6d9e-4055-cc50-f8d7c610fd9d"
      },
      "execution_count": 6,
      "outputs": [
        {
          "output_type": "execute_result",
          "data": {
            "text/plain": [
              "Index(['pitch_type', 'game_date', 'release_speed', 'release_pos_x',\n",
              "       'release_pos_z', 'player_name', 'batter', 'pitcher', 'events',\n",
              "       'description', 'spin_dir', 'spin_rate_deprecated',\n",
              "       'break_angle_deprecated', 'break_length_deprecated', 'zone', 'des',\n",
              "       'game_type', 'stand', 'p_throws', 'home_team', 'away_team', 'type',\n",
              "       'hit_location', 'bb_type', 'balls', 'strikes', 'game_year', 'pfx_x',\n",
              "       'pfx_z', 'plate_x', 'plate_z', 'on_3b', 'on_2b', 'on_1b',\n",
              "       'outs_when_up', 'inning', 'inning_topbot', 'hc_x', 'hc_y',\n",
              "       'tfs_deprecated', 'tfs_zulu_deprecated', 'fielder_2', 'umpire', 'sv_id',\n",
              "       'vx0', 'vy0', 'vz0', 'ax', 'ay', 'az', 'sz_top', 'sz_bot',\n",
              "       'hit_distance_sc', 'launch_speed', 'launch_angle', 'effective_speed',\n",
              "       'release_spin_rate', 'release_extension', 'game_pk', 'pitcher.1',\n",
              "       'fielder_2.1', 'fielder_3', 'fielder_4', 'fielder_5', 'fielder_6',\n",
              "       'fielder_7', 'fielder_8', 'fielder_9', 'release_pos_y',\n",
              "       'estimated_ba_using_speedangle', 'estimated_woba_using_speedangle',\n",
              "       'woba_value', 'woba_denom', 'babip_value', 'iso_value',\n",
              "       'launch_speed_angle', 'at_bat_number', 'pitch_number', 'pitch_name',\n",
              "       'home_score', 'away_score', 'bat_score', 'fld_score', 'post_away_score',\n",
              "       'post_home_score', 'post_bat_score', 'post_fld_score',\n",
              "       'if_fielding_alignment', 'of_fielding_alignment', 'spin_axis',\n",
              "       'delta_home_win_exp', 'delta_run_exp'],\n",
              "      dtype='object')"
            ]
          },
          "metadata": {},
          "execution_count": 6
        }
      ]
    },
    {
      "cell_type": "code",
      "source": [
        "kershaw_lookup.head()"
      ],
      "metadata": {
        "colab": {
          "base_uri": "https://localhost:8080/",
          "height": 342
        },
        "id": "lm2aCKJiVx_K",
        "outputId": "08165363-4cf7-4aa0-b53a-f667367432b2"
      },
      "execution_count": 7,
      "outputs": [
        {
          "output_type": "execute_result",
          "data": {
            "text/plain": [
              "  pitch_type   game_date  release_speed  release_pos_x  release_pos_z  \\\n",
              "0         FF  2013-10-18           93.0           1.58           6.31   \n",
              "1         FF  2013-10-18           93.0           1.50           6.34   \n",
              "2         FF  2013-10-18           92.9           1.37           6.39   \n",
              "3         FF  2013-10-18           92.3           1.35           6.36   \n",
              "4         FF  2013-10-18           92.6           1.24           6.34   \n",
              "\n",
              "        player_name  batter  pitcher  events    description  ...  fld_score  \\\n",
              "0  Kershaw, Clayton  571431   477132  double  hit_into_play  ...          0   \n",
              "1  Kershaw, Clayton  571431   477132     NaN           foul  ...          0   \n",
              "2  Kershaw, Clayton  501896   477132  single  hit_into_play  ...          0   \n",
              "3  Kershaw, Clayton  501896   477132     NaN           ball  ...          0   \n",
              "4  Kershaw, Clayton  501896   477132     NaN           foul  ...          0   \n",
              "\n",
              "   post_away_score  post_home_score  post_bat_score  post_fld_score  \\\n",
              "0                0                5               5               0   \n",
              "1                0                4               4               0   \n",
              "2                0                4               4               0   \n",
              "3                0                4               4               0   \n",
              "4                0                4               4               0   \n",
              "\n",
              "  if_fielding_alignment of_fielding_alignment spin_axis delta_home_win_exp  \\\n",
              "0                   NaN                   NaN       NaN              0.018   \n",
              "1                   NaN                   NaN       NaN              0.000   \n",
              "2                   NaN                   NaN       NaN              0.013   \n",
              "3                   NaN                   NaN       NaN              0.000   \n",
              "4                   NaN                   NaN       NaN              0.000   \n",
              "\n",
              "  delta_run_exp  \n",
              "0         1.323  \n",
              "1        -0.049  \n",
              "2         0.618  \n",
              "3         0.037  \n",
              "4        -0.048  \n",
              "\n",
              "[5 rows x 92 columns]"
            ],
            "text/html": [
              "\n",
              "  <div id=\"df-2cf2a506-c23e-494c-9d66-95993f49ea4d\" class=\"colab-df-container\">\n",
              "    <div>\n",
              "<style scoped>\n",
              "    .dataframe tbody tr th:only-of-type {\n",
              "        vertical-align: middle;\n",
              "    }\n",
              "\n",
              "    .dataframe tbody tr th {\n",
              "        vertical-align: top;\n",
              "    }\n",
              "\n",
              "    .dataframe thead th {\n",
              "        text-align: right;\n",
              "    }\n",
              "</style>\n",
              "<table border=\"1\" class=\"dataframe\">\n",
              "  <thead>\n",
              "    <tr style=\"text-align: right;\">\n",
              "      <th></th>\n",
              "      <th>pitch_type</th>\n",
              "      <th>game_date</th>\n",
              "      <th>release_speed</th>\n",
              "      <th>release_pos_x</th>\n",
              "      <th>release_pos_z</th>\n",
              "      <th>player_name</th>\n",
              "      <th>batter</th>\n",
              "      <th>pitcher</th>\n",
              "      <th>events</th>\n",
              "      <th>description</th>\n",
              "      <th>...</th>\n",
              "      <th>fld_score</th>\n",
              "      <th>post_away_score</th>\n",
              "      <th>post_home_score</th>\n",
              "      <th>post_bat_score</th>\n",
              "      <th>post_fld_score</th>\n",
              "      <th>if_fielding_alignment</th>\n",
              "      <th>of_fielding_alignment</th>\n",
              "      <th>spin_axis</th>\n",
              "      <th>delta_home_win_exp</th>\n",
              "      <th>delta_run_exp</th>\n",
              "    </tr>\n",
              "  </thead>\n",
              "  <tbody>\n",
              "    <tr>\n",
              "      <th>0</th>\n",
              "      <td>FF</td>\n",
              "      <td>2013-10-18</td>\n",
              "      <td>93.0</td>\n",
              "      <td>1.58</td>\n",
              "      <td>6.31</td>\n",
              "      <td>Kershaw, Clayton</td>\n",
              "      <td>571431</td>\n",
              "      <td>477132</td>\n",
              "      <td>double</td>\n",
              "      <td>hit_into_play</td>\n",
              "      <td>...</td>\n",
              "      <td>0</td>\n",
              "      <td>0</td>\n",
              "      <td>5</td>\n",
              "      <td>5</td>\n",
              "      <td>0</td>\n",
              "      <td>NaN</td>\n",
              "      <td>NaN</td>\n",
              "      <td>NaN</td>\n",
              "      <td>0.018</td>\n",
              "      <td>1.323</td>\n",
              "    </tr>\n",
              "    <tr>\n",
              "      <th>1</th>\n",
              "      <td>FF</td>\n",
              "      <td>2013-10-18</td>\n",
              "      <td>93.0</td>\n",
              "      <td>1.50</td>\n",
              "      <td>6.34</td>\n",
              "      <td>Kershaw, Clayton</td>\n",
              "      <td>571431</td>\n",
              "      <td>477132</td>\n",
              "      <td>NaN</td>\n",
              "      <td>foul</td>\n",
              "      <td>...</td>\n",
              "      <td>0</td>\n",
              "      <td>0</td>\n",
              "      <td>4</td>\n",
              "      <td>4</td>\n",
              "      <td>0</td>\n",
              "      <td>NaN</td>\n",
              "      <td>NaN</td>\n",
              "      <td>NaN</td>\n",
              "      <td>0.000</td>\n",
              "      <td>-0.049</td>\n",
              "    </tr>\n",
              "    <tr>\n",
              "      <th>2</th>\n",
              "      <td>FF</td>\n",
              "      <td>2013-10-18</td>\n",
              "      <td>92.9</td>\n",
              "      <td>1.37</td>\n",
              "      <td>6.39</td>\n",
              "      <td>Kershaw, Clayton</td>\n",
              "      <td>501896</td>\n",
              "      <td>477132</td>\n",
              "      <td>single</td>\n",
              "      <td>hit_into_play</td>\n",
              "      <td>...</td>\n",
              "      <td>0</td>\n",
              "      <td>0</td>\n",
              "      <td>4</td>\n",
              "      <td>4</td>\n",
              "      <td>0</td>\n",
              "      <td>NaN</td>\n",
              "      <td>NaN</td>\n",
              "      <td>NaN</td>\n",
              "      <td>0.013</td>\n",
              "      <td>0.618</td>\n",
              "    </tr>\n",
              "    <tr>\n",
              "      <th>3</th>\n",
              "      <td>FF</td>\n",
              "      <td>2013-10-18</td>\n",
              "      <td>92.3</td>\n",
              "      <td>1.35</td>\n",
              "      <td>6.36</td>\n",
              "      <td>Kershaw, Clayton</td>\n",
              "      <td>501896</td>\n",
              "      <td>477132</td>\n",
              "      <td>NaN</td>\n",
              "      <td>ball</td>\n",
              "      <td>...</td>\n",
              "      <td>0</td>\n",
              "      <td>0</td>\n",
              "      <td>4</td>\n",
              "      <td>4</td>\n",
              "      <td>0</td>\n",
              "      <td>NaN</td>\n",
              "      <td>NaN</td>\n",
              "      <td>NaN</td>\n",
              "      <td>0.000</td>\n",
              "      <td>0.037</td>\n",
              "    </tr>\n",
              "    <tr>\n",
              "      <th>4</th>\n",
              "      <td>FF</td>\n",
              "      <td>2013-10-18</td>\n",
              "      <td>92.6</td>\n",
              "      <td>1.24</td>\n",
              "      <td>6.34</td>\n",
              "      <td>Kershaw, Clayton</td>\n",
              "      <td>501896</td>\n",
              "      <td>477132</td>\n",
              "      <td>NaN</td>\n",
              "      <td>foul</td>\n",
              "      <td>...</td>\n",
              "      <td>0</td>\n",
              "      <td>0</td>\n",
              "      <td>4</td>\n",
              "      <td>4</td>\n",
              "      <td>0</td>\n",
              "      <td>NaN</td>\n",
              "      <td>NaN</td>\n",
              "      <td>NaN</td>\n",
              "      <td>0.000</td>\n",
              "      <td>-0.048</td>\n",
              "    </tr>\n",
              "  </tbody>\n",
              "</table>\n",
              "<p>5 rows × 92 columns</p>\n",
              "</div>\n",
              "    <div class=\"colab-df-buttons\">\n",
              "\n",
              "  <div class=\"colab-df-container\">\n",
              "    <button class=\"colab-df-convert\" onclick=\"convertToInteractive('df-2cf2a506-c23e-494c-9d66-95993f49ea4d')\"\n",
              "            title=\"Convert this dataframe to an interactive table.\"\n",
              "            style=\"display:none;\">\n",
              "\n",
              "  <svg xmlns=\"http://www.w3.org/2000/svg\" height=\"24px\" viewBox=\"0 -960 960 960\">\n",
              "    <path d=\"M120-120v-720h720v720H120Zm60-500h600v-160H180v160Zm220 220h160v-160H400v160Zm0 220h160v-160H400v160ZM180-400h160v-160H180v160Zm440 0h160v-160H620v160ZM180-180h160v-160H180v160Zm440 0h160v-160H620v160Z\"/>\n",
              "  </svg>\n",
              "    </button>\n",
              "\n",
              "  <style>\n",
              "    .colab-df-container {\n",
              "      display:flex;\n",
              "      gap: 12px;\n",
              "    }\n",
              "\n",
              "    .colab-df-convert {\n",
              "      background-color: #E8F0FE;\n",
              "      border: none;\n",
              "      border-radius: 50%;\n",
              "      cursor: pointer;\n",
              "      display: none;\n",
              "      fill: #1967D2;\n",
              "      height: 32px;\n",
              "      padding: 0 0 0 0;\n",
              "      width: 32px;\n",
              "    }\n",
              "\n",
              "    .colab-df-convert:hover {\n",
              "      background-color: #E2EBFA;\n",
              "      box-shadow: 0px 1px 2px rgba(60, 64, 67, 0.3), 0px 1px 3px 1px rgba(60, 64, 67, 0.15);\n",
              "      fill: #174EA6;\n",
              "    }\n",
              "\n",
              "    .colab-df-buttons div {\n",
              "      margin-bottom: 4px;\n",
              "    }\n",
              "\n",
              "    [theme=dark] .colab-df-convert {\n",
              "      background-color: #3B4455;\n",
              "      fill: #D2E3FC;\n",
              "    }\n",
              "\n",
              "    [theme=dark] .colab-df-convert:hover {\n",
              "      background-color: #434B5C;\n",
              "      box-shadow: 0px 1px 3px 1px rgba(0, 0, 0, 0.15);\n",
              "      filter: drop-shadow(0px 1px 2px rgba(0, 0, 0, 0.3));\n",
              "      fill: #FFFFFF;\n",
              "    }\n",
              "  </style>\n",
              "\n",
              "    <script>\n",
              "      const buttonEl =\n",
              "        document.querySelector('#df-2cf2a506-c23e-494c-9d66-95993f49ea4d button.colab-df-convert');\n",
              "      buttonEl.style.display =\n",
              "        google.colab.kernel.accessAllowed ? 'block' : 'none';\n",
              "\n",
              "      async function convertToInteractive(key) {\n",
              "        const element = document.querySelector('#df-2cf2a506-c23e-494c-9d66-95993f49ea4d');\n",
              "        const dataTable =\n",
              "          await google.colab.kernel.invokeFunction('convertToInteractive',\n",
              "                                                    [key], {});\n",
              "        if (!dataTable) return;\n",
              "\n",
              "        const docLinkHtml = 'Like what you see? Visit the ' +\n",
              "          '<a target=\"_blank\" href=https://colab.research.google.com/notebooks/data_table.ipynb>data table notebook</a>'\n",
              "          + ' to learn more about interactive tables.';\n",
              "        element.innerHTML = '';\n",
              "        dataTable['output_type'] = 'display_data';\n",
              "        await google.colab.output.renderOutput(dataTable, element);\n",
              "        const docLink = document.createElement('div');\n",
              "        docLink.innerHTML = docLinkHtml;\n",
              "        element.appendChild(docLink);\n",
              "      }\n",
              "    </script>\n",
              "  </div>\n",
              "\n",
              "\n",
              "<div id=\"df-9178aef3-6090-4587-9fb1-27ca00c2f634\">\n",
              "  <button class=\"colab-df-quickchart\" onclick=\"quickchart('df-9178aef3-6090-4587-9fb1-27ca00c2f634')\"\n",
              "            title=\"Suggest charts\"\n",
              "            style=\"display:none;\">\n",
              "\n",
              "<svg xmlns=\"http://www.w3.org/2000/svg\" height=\"24px\"viewBox=\"0 0 24 24\"\n",
              "     width=\"24px\">\n",
              "    <g>\n",
              "        <path d=\"M19 3H5c-1.1 0-2 .9-2 2v14c0 1.1.9 2 2 2h14c1.1 0 2-.9 2-2V5c0-1.1-.9-2-2-2zM9 17H7v-7h2v7zm4 0h-2V7h2v10zm4 0h-2v-4h2v4z\"/>\n",
              "    </g>\n",
              "</svg>\n",
              "  </button>\n",
              "\n",
              "<style>\n",
              "  .colab-df-quickchart {\n",
              "      --bg-color: #E8F0FE;\n",
              "      --fill-color: #1967D2;\n",
              "      --hover-bg-color: #E2EBFA;\n",
              "      --hover-fill-color: #174EA6;\n",
              "      --disabled-fill-color: #AAA;\n",
              "      --disabled-bg-color: #DDD;\n",
              "  }\n",
              "\n",
              "  [theme=dark] .colab-df-quickchart {\n",
              "      --bg-color: #3B4455;\n",
              "      --fill-color: #D2E3FC;\n",
              "      --hover-bg-color: #434B5C;\n",
              "      --hover-fill-color: #FFFFFF;\n",
              "      --disabled-bg-color: #3B4455;\n",
              "      --disabled-fill-color: #666;\n",
              "  }\n",
              "\n",
              "  .colab-df-quickchart {\n",
              "    background-color: var(--bg-color);\n",
              "    border: none;\n",
              "    border-radius: 50%;\n",
              "    cursor: pointer;\n",
              "    display: none;\n",
              "    fill: var(--fill-color);\n",
              "    height: 32px;\n",
              "    padding: 0;\n",
              "    width: 32px;\n",
              "  }\n",
              "\n",
              "  .colab-df-quickchart:hover {\n",
              "    background-color: var(--hover-bg-color);\n",
              "    box-shadow: 0 1px 2px rgba(60, 64, 67, 0.3), 0 1px 3px 1px rgba(60, 64, 67, 0.15);\n",
              "    fill: var(--button-hover-fill-color);\n",
              "  }\n",
              "\n",
              "  .colab-df-quickchart-complete:disabled,\n",
              "  .colab-df-quickchart-complete:disabled:hover {\n",
              "    background-color: var(--disabled-bg-color);\n",
              "    fill: var(--disabled-fill-color);\n",
              "    box-shadow: none;\n",
              "  }\n",
              "\n",
              "  .colab-df-spinner {\n",
              "    border: 2px solid var(--fill-color);\n",
              "    border-color: transparent;\n",
              "    border-bottom-color: var(--fill-color);\n",
              "    animation:\n",
              "      spin 1s steps(1) infinite;\n",
              "  }\n",
              "\n",
              "  @keyframes spin {\n",
              "    0% {\n",
              "      border-color: transparent;\n",
              "      border-bottom-color: var(--fill-color);\n",
              "      border-left-color: var(--fill-color);\n",
              "    }\n",
              "    20% {\n",
              "      border-color: transparent;\n",
              "      border-left-color: var(--fill-color);\n",
              "      border-top-color: var(--fill-color);\n",
              "    }\n",
              "    30% {\n",
              "      border-color: transparent;\n",
              "      border-left-color: var(--fill-color);\n",
              "      border-top-color: var(--fill-color);\n",
              "      border-right-color: var(--fill-color);\n",
              "    }\n",
              "    40% {\n",
              "      border-color: transparent;\n",
              "      border-right-color: var(--fill-color);\n",
              "      border-top-color: var(--fill-color);\n",
              "    }\n",
              "    60% {\n",
              "      border-color: transparent;\n",
              "      border-right-color: var(--fill-color);\n",
              "    }\n",
              "    80% {\n",
              "      border-color: transparent;\n",
              "      border-right-color: var(--fill-color);\n",
              "      border-bottom-color: var(--fill-color);\n",
              "    }\n",
              "    90% {\n",
              "      border-color: transparent;\n",
              "      border-bottom-color: var(--fill-color);\n",
              "    }\n",
              "  }\n",
              "</style>\n",
              "\n",
              "  <script>\n",
              "    async function quickchart(key) {\n",
              "      const quickchartButtonEl =\n",
              "        document.querySelector('#' + key + ' button');\n",
              "      quickchartButtonEl.disabled = true;  // To prevent multiple clicks.\n",
              "      quickchartButtonEl.classList.add('colab-df-spinner');\n",
              "      try {\n",
              "        const charts = await google.colab.kernel.invokeFunction(\n",
              "            'suggestCharts', [key], {});\n",
              "      } catch (error) {\n",
              "        console.error('Error during call to suggestCharts:', error);\n",
              "      }\n",
              "      quickchartButtonEl.classList.remove('colab-df-spinner');\n",
              "      quickchartButtonEl.classList.add('colab-df-quickchart-complete');\n",
              "    }\n",
              "    (() => {\n",
              "      let quickchartButtonEl =\n",
              "        document.querySelector('#df-9178aef3-6090-4587-9fb1-27ca00c2f634 button');\n",
              "      quickchartButtonEl.style.display =\n",
              "        google.colab.kernel.accessAllowed ? 'block' : 'none';\n",
              "    })();\n",
              "  </script>\n",
              "</div>\n",
              "\n",
              "    </div>\n",
              "  </div>\n"
            ],
            "application/vnd.google.colaboratory.intrinsic+json": {
              "type": "dataframe",
              "variable_name": "kershaw_lookup"
            }
          },
          "metadata": {},
          "execution_count": 7
        }
      ]
    },
    {
      "cell_type": "code",
      "source": [
        "# Collection of colnames marked as deprecated in thhe library's documentation\n",
        "\n",
        "deprecated_cols = [\n",
        "    'spir_dir',\n",
        "    'spin_rate_deprecated',\n",
        "    'break_angle_deprecated',\n",
        "    'break_length_deprecated',\n",
        "    'tfs_deprecated',\n",
        "    'tfs_zulu_deprecated',\n",
        "    'umpire'\n",
        "]"
      ],
      "metadata": {
        "id": "3MP_jju2Uq08"
      },
      "execution_count": 8,
      "outputs": []
    },
    {
      "cell_type": "markdown",
      "source": [
        "## Exploratory Data Analysis"
      ],
      "metadata": {
        "id": "u1BeEDywVghd"
      }
    },
    {
      "cell_type": "code",
      "source": [
        "# What does the description column look like?\n",
        "kershaw_lookup['description'].unique()"
      ],
      "metadata": {
        "colab": {
          "base_uri": "https://localhost:8080/"
        },
        "id": "YPcI-qmQgDFT",
        "outputId": "2bb6e436-6533-416c-edb9-d796df546cd5"
      },
      "execution_count": 9,
      "outputs": [
        {
          "output_type": "execute_result",
          "data": {
            "text/plain": [
              "array(['hit_into_play', 'foul', 'ball', 'swinging_strike',\n",
              "       'called_strike', 'intent_ball', 'blocked_ball',\n",
              "       'swinging_strike_blocked', 'foul_tip', 'foul_bunt', 'hit_by_pitch',\n",
              "       'missed_bunt', 'bunt_foul_tip'], dtype=object)"
            ]
          },
          "metadata": {},
          "execution_count": 9
        }
      ]
    },
    {
      "cell_type": "markdown",
      "source": [
        "## Preprocessing"
      ],
      "metadata": {
        "id": "PJ5F-8Wzed2H"
      }
    },
    {
      "cell_type": "code",
      "source": [
        "# Pitch Type Mapping\n"
      ],
      "metadata": {
        "id": "qgL5CV4d8i0Z"
      },
      "execution_count": null,
      "outputs": []
    },
    {
      "cell_type": "code",
      "source": [
        "def pitch_id(row):\n",
        "  \"\"\"\n",
        "  Creates a unique id for each pitch by combining game, batter, at bat, and pitch number. Since pitch number is thhe last digit(s), the id is sortable.\n",
        "  \"\"\"\n",
        "  game_id = row['game_pk']\n",
        "  batter_id = row['batter']\n",
        "  at_bat = row['at_bat_number']\n",
        "  pitch_number = row['pitch_number']\n",
        "  args = [game_id, batter_id, at_bat, pitch_number]\n",
        "  id = ''.join(str(arg) for arg in args)\n",
        "  return int(id)"
      ],
      "metadata": {
        "id": "W6oSWMMkl2g2"
      },
      "execution_count": 10,
      "outputs": []
    },
    {
      "cell_type": "markdown",
      "source": [
        "**a note on pre-vs-post-pitch**\n",
        "\n",
        "The presence of pre-pitch stats means this data needs to be handled carefully. To avoid data leakage, when predicting the label of a row of data, all data in that row must be 'pre-pitch'. This can be ensured in one of these mutually exclusive ways:\n",
        "1. Use only the provided 'pre-pitch' data, stored in `pre_pitch_cols`\n",
        "2. Use the full set of data for the preceding pitch, minus its `pre_pitch_cols` data. This can be done by a lookup from the pitch_id that I created, where the prevoious pitch has an id 1 lower than the pitch we are predicting (unless it is the first pitch of the game)"
      ],
      "metadata": {
        "id": "J0eVuYZgnnzQ"
      }
    },
    {
      "cell_type": "code",
      "source": [
        "# Collection of features a person sitting behind home plate would know before the pitch\n",
        "pre_pitch_cols = [\n",
        "    #'ID',\n",
        "    'pitch_type', # TARGET\n",
        "    'game_date',\n",
        "    'player_name', # Will always be the selected pitcher\n",
        "    'batter',\n",
        "    'pitcher', # Will always be the selected pitcher\n",
        "    'game_type',\n",
        "    'stand',\n",
        "    'p_throws',\n",
        "    'home_team',\n",
        "    'away_team',\n",
        "    'balls',\n",
        "    'strikes',\n",
        "    'game_year',\n",
        "    'on_3b',\n",
        "    'on_2b',\n",
        "    'on_1b',\n",
        "    'outs_when_up',\n",
        "    'inning',\n",
        "    'inning_topbot',\n",
        "    #'fielder_2', # all fielder info ignored\n",
        "    'at_bat_number',\n",
        "    'home_score',\n",
        "    'away_score',\n",
        "    'bat_score',\n",
        "    'fld_score',\n",
        "    'if_fielding_alignment',\n",
        "    'of_fielding_alignment'\n",
        "]\n",
        "post_pitch_cols = [] # everything else"
      ],
      "metadata": {
        "id": "HtUz5_UMkdtb"
      },
      "execution_count": 11,
      "outputs": []
    },
    {
      "cell_type": "markdown",
      "source": [
        "# Feature Engineering\n",
        "This is done on the data to create feaures that shouldbe useful for all types of models."
      ],
      "metadata": {
        "id": "v6EmsMhsob5t"
      }
    },
    {
      "cell_type": "code",
      "source": [
        "pitch_type_mapping = {'CH': 0, 'CU': 1, 'FA': 2, 'FF': 3, 'FS': 4, 'IN': 5, 'SI': 6, 'SL': 7}"
      ],
      "metadata": {
        "id": "sdkPnZsG8wZE"
      },
      "execution_count": 51,
      "outputs": []
    },
    {
      "cell_type": "code",
      "source": [
        "# Replace 'batter' with batting average\n",
        "# Replace the features for runners on base with each runner's sbp\n",
        "# Create a feature to indicte if pitcher's team is home or away\n",
        "# Create opp_team feature"
      ],
      "metadata": {
        "id": "04pFDs15ofsn"
      },
      "execution_count": 12,
      "outputs": []
    },
    {
      "cell_type": "markdown",
      "source": [
        "### Encoding `batter` from player_id to batting average"
      ],
      "metadata": {
        "id": "XoATRYib9Ach"
      }
    },
    {
      "cell_type": "code",
      "source": [
        "def get_avg(player_id: str):\n",
        "  \"\"\"\n",
        "  Returns a player's career Batting Average.\n",
        "\n",
        "  Params\n",
        "    player_id (str): The mlbam key given in the pitching statcast.\n",
        "\n",
        "  Returns\n",
        "    avg (float): The player's career batting average.\n",
        "  \"\"\"\n",
        "  player_lookup = playerid_reverse_lookup([int(player_id)]) # ID must be cast to an int...\n",
        "  bbref_key = player_lookup['key_bbref'][0]\n",
        "  player_splits = get_splits(bbref_key)\n",
        "  avg = player_splits['BA'][0]\n",
        "  return avg"
      ],
      "metadata": {
        "id": "i32RyDfCr8Ww"
      },
      "execution_count": 13,
      "outputs": []
    },
    {
      "cell_type": "code",
      "source": [
        "class BatterEncoder(BaseEstimator, TransformerMixin):\n",
        "  # Creates column batter_avg, drops 'batter'\n",
        "\n",
        "  def fit(self, X, y=None):\n",
        "    return self\n",
        "\n",
        "  def transform(self, X):\n",
        "    X['batter'] = X['batter'].apply(get_avg)\n",
        "    #X = X.drop('batter')\n",
        "    return X"
      ],
      "metadata": {
        "id": "JAgBjny19G4K"
      },
      "execution_count": 14,
      "outputs": []
    },
    {
      "cell_type": "markdown",
      "source": [
        "### Encoding runner Stolen Base Percentage from runner features"
      ],
      "metadata": {
        "id": "TdN5rKrFFqhY"
      }
    },
    {
      "cell_type": "code",
      "source": [
        "def binarize_runner(player_id: str):\n",
        "  \"\"\"\n",
        "  Returns 1 if there is a player on base, otherwise 0.\n",
        "\n",
        "  Params\n",
        "    player_id (str): The mlbam key given in the pitching statcast.\n",
        "\n",
        "  Returns\n",
        "    1 or  0.\n",
        "  \"\"\"\n",
        "  if np.isnan(player_id): # if it's a NaN, leave it alone\n",
        "    return 0\n",
        "  else:\n",
        "    return 1\n"
      ],
      "metadata": {
        "id": "W85mEDAK5wOp"
      },
      "execution_count": 15,
      "outputs": []
    },
    {
      "cell_type": "code",
      "source": [
        "class RunnerEncoderBinary(BaseEstimator, TransformerMixin):\n",
        "  # Works in-place, does not create additional columns\n",
        "  def fit(self, X, y=None):\n",
        "    return self\n",
        "\n",
        "  def transform(self, X):\n",
        "    X['on_3b'] = X['on_3b'].apply(binarize_runner)\n",
        "    X['on_2b'] = X['on_2b'].apply(binarize_runner)\n",
        "    X['on_1b'] = X['on_1b'].apply(binarize_runner)\n",
        "    #X = X.drop(['on_3b','on_2b', 'on_1b',], axis = 1)\n",
        "    return X"
      ],
      "metadata": {
        "id": "zlBcAsMc5t-4"
      },
      "execution_count": 16,
      "outputs": []
    },
    {
      "cell_type": "markdown",
      "source": [
        "### Encoding Home / Away and creating a feature to indicate opposing team"
      ],
      "metadata": {
        "id": "9rfe_A8kJPhP"
      }
    },
    {
      "cell_type": "markdown",
      "source": [],
      "metadata": {
        "id": "OZO1W1m5-VIi"
      }
    },
    {
      "cell_type": "code",
      "source": [
        "def get_opp(row):\n",
        "  at_home = False\n",
        "  top_bot = row['inning_topbot']\n",
        "  if top_bot == 'Bot':\n",
        "    at_home = True\n",
        "  if at_home:\n",
        "    return row['home_team']\n",
        "  else:\n",
        "    return row['away_team']\n"
      ],
      "metadata": {
        "id": "krw8zluPOeuX"
      },
      "execution_count": 17,
      "outputs": []
    },
    {
      "cell_type": "code",
      "source": [
        "class OppTeamEncoder(BaseEstimator, TransformerMixin):\n",
        "\n",
        "  def fit(self, X, y=None):\n",
        "    return self\n",
        "\n",
        "  def transform(self, X):\n",
        "    X['opp_team'] = X.apply(get_opp, axis = 1)\n",
        "    X = X.drop(['home_team','away_team', 'inning_topbot'], axis = 1)\n",
        "    return X"
      ],
      "metadata": {
        "id": "byoqEfW_LGrS"
      },
      "execution_count": 18,
      "outputs": []
    },
    {
      "cell_type": "markdown",
      "source": [
        "# Initial Model Testing"
      ],
      "metadata": {
        "id": "aRzBdgFcQ1qP"
      }
    },
    {
      "cell_type": "code",
      "source": [
        "target = 'pitch_type'\n",
        "test_sample = kershaw_lookup[pre_pitch_cols]\n",
        "df = test_sample.dropna(subset=[target])"
      ],
      "metadata": {
        "id": "T2gtFAa_RzQV"
      },
      "execution_count": 35,
      "outputs": []
    },
    {
      "cell_type": "markdown",
      "source": [
        "## Baseline model - always predict four-seam fastball\n",
        "To get a baseline to compare our models to, we first create a naive model that always predicts a four-seam fastball - the most common pitch category in baseball"
      ],
      "metadata": {
        "id": "KGcXuwY5Q5j8"
      }
    },
    {
      "cell_type": "code",
      "source": [
        "# Baseline model that predicts a four seam fastball for every pitch\n",
        "def guess_ff(X):\n",
        "  \"\"\"\n",
        "  Naive model that predicts a four seam fastball for every pitch\n",
        "\n",
        "  Params\n",
        "    X(pandas DataFrame): Transformed feature matrix of a pitcher's pitches.\n",
        "\n",
        "  Returns\n",
        "    Array of predicitons.\n",
        "  \"\"\"\n",
        "  pred_len = len(X)\n",
        "  preds = ['FF'] * pred_len\n",
        "  return preds\n"
      ],
      "metadata": {
        "id": "GJ1qfGXWQ5P_"
      },
      "execution_count": 36,
      "outputs": []
    },
    {
      "cell_type": "code",
      "source": [
        "y_test.unique()"
      ],
      "metadata": {
        "colab": {
          "base_uri": "https://localhost:8080/"
        },
        "id": "smZ8A8fJ6wds",
        "outputId": "ccb980ae-8e1d-4f63-9c84-7d69b320b0fc"
      },
      "execution_count": 45,
      "outputs": [
        {
          "output_type": "execute_result",
          "data": {
            "text/plain": [
              "array(['FF', 'SL', 'CU', 'CH', 'SI', 'IN', 'FS'], dtype=object)"
            ]
          },
          "metadata": {},
          "execution_count": 45
        }
      ]
    },
    {
      "cell_type": "code",
      "source": [
        "# Get baseline results\n",
        "X_train, X_test, y_train, y_test = train_test_split(df.drop(target, axis=1), df[target], test_size=0.2, random_state=42)\n",
        "\n",
        "baseline_preds = guess_ff(X_test)\n",
        "\n",
        "# Classification Report\n",
        "print(\"Classification Report:\")\n",
        "print(classification_report(y_test, baseline_preds, zero_division=0))\n",
        "\n",
        "\n",
        "pitch_lables = ['CH', 'CU', 'FF', 'FS', 'IN', 'SI', 'SL']\n",
        "\n",
        "conf_matrix = confusion_matrix(y_test, baseline_preds)\n",
        "sns.heatmap(conf_matrix, annot=True, cmap='Blues', fmt='g',\n",
        "            xticklabels=pitch_lables, yticklabels=pitch_lables\n",
        "\n",
        "            )\n",
        "plt.xlabel('Predicted')\n",
        "plt.ylabel('True')\n",
        "plt.title('Confusion Matrix')\n",
        "plt.show()"
      ],
      "metadata": {
        "colab": {
          "base_uri": "https://localhost:8080/",
          "height": 732
        },
        "id": "4EuCa1OiRNj8",
        "outputId": "c8cd29c2-7b6d-4c9e-9fd5-30831455d5b8"
      },
      "execution_count": 55,
      "outputs": [
        {
          "output_type": "stream",
          "name": "stdout",
          "text": [
            "Classification Report:\n",
            "              precision    recall  f1-score   support\n",
            "\n",
            "          CH       0.00      0.00      0.00       163\n",
            "          CU       0.00      0.00      0.00      1272\n",
            "          FF       0.54      1.00      0.70      4750\n",
            "          FS       0.00      0.00      0.00         1\n",
            "          IN       0.00      0.00      0.00        14\n",
            "          SI       0.00      0.00      0.00        27\n",
            "          SL       0.00      0.00      0.00      2595\n",
            "\n",
            "    accuracy                           0.54      8822\n",
            "   macro avg       0.08      0.14      0.10      8822\n",
            "weighted avg       0.29      0.54      0.38      8822\n",
            "\n"
          ]
        },
        {
          "output_type": "display_data",
          "data": {
            "text/plain": [
              "<Figure size 640x480 with 2 Axes>"
            ],
            "image/png": "[encoded data removed]"
          },
          "metadata": {}
        }
      ]
    },
    {
      "cell_type": "markdown",
      "source": [
        "## Testing an XGBoost Model on basic pre-pitch Data"
      ],
      "metadata": {
        "id": "94YOLZ3GS02D"
      }
    },
    {
      "cell_type": "code",
      "source": [
        "from sklearn.preprocessing import LabelEncoder\n",
        "\n",
        "# Encode target variable with LabelEncoder\n",
        "label_encoder = LabelEncoder()\n",
        "df[target] = label_encoder.fit_transform(df[target])\n",
        "\n",
        "\n",
        "# Split data into train and test sets\n",
        "X_train, X_test, y_train, y_test = train_test_split(df.drop(target, axis=1), df[target], test_size=0.2, random_state=42)\n",
        "\n",
        "\n",
        "# Define numeric and categorical columns\n",
        "num_cols = [\n",
        "    'balls',\n",
        "    'strikes',\n",
        "    'game_year',\n",
        "    'outs_when_up',\n",
        "    'inning',\n",
        "    'at_bat_number',\n",
        "    'bat_score',\n",
        "    'fld_score',\n",
        "]\n",
        "\n",
        "cat_cols = [\n",
        "    'game_type',\n",
        "    'stand',\n",
        "    'p_throws',\n",
        "    'inning_topbot',\n",
        "    'if_fielding_alignment',\n",
        "    'of_fielding_alignment'\n",
        "]\n",
        "\n",
        "\n",
        "# Define preprocessing steps\n",
        "numeric_transformer = Pipeline(steps=[\n",
        "    ('scaler', StandardScaler())\n",
        "])\n",
        "\n",
        "categorical_transformer = Pipeline(steps=[\n",
        "    ('onehot', OneHotEncoder(handle_unknown='ignore'))\n",
        "])\n",
        "\n",
        "preprocessor = ColumnTransformer(\n",
        "    transformers=[\n",
        "        ('num', numeric_transformer, num_cols),\n",
        "        ('cat', categorical_transformer, cat_cols)\n",
        "    ])\n",
        "\n",
        "\n",
        "\n",
        "# Create pipeline with DropNaNRows transformer\n",
        "pipeline = Pipeline(steps=[\n",
        "    ('preprocessor', preprocessor),\n",
        "    ('classifier', xgb.XGBClassifier(objective='multi:softmax', num_class=len(df[target].unique())))\n",
        "])\n",
        "\n",
        "# Fit the model\n",
        "pipeline.fit(df.drop([target], axis=1), df[target])\n",
        "\n",
        "# Make predictions\n",
        "y_pred = pipeline.predict(X_test)"
      ],
      "metadata": {
        "colab": {
          "base_uri": "https://localhost:8080/"
        },
        "id": "ZLH_yyDtWwLD",
        "outputId": "2b1f46c3-cd35-41e7-e38e-4a1090a3f921"
      },
      "execution_count": 21,
      "outputs": [
        {
          "output_type": "stream",
          "name": "stderr",
          "text": [
            "<ipython-input-21-324e9cf4a242>:5: SettingWithCopyWarning: \n",
            "A value is trying to be set on a copy of a slice from a DataFrame.\n",
            "Try using .loc[row_indexer,col_indexer] = value instead\n",
            "\n",
            "See the caveats in the documentation: https://pandas.pydata.org/pandas-docs/stable/user_guide/indexing.html#returning-a-view-versus-a-copy\n",
            "  df[target] = label_encoder.fit_transform(df[target])\n"
          ]
        }
      ]
    },
    {
      "cell_type": "code",
      "source": [
        "# Print classification report\n",
        "print(\"Classification Report:\")\n",
        "print(classification_report(y_test, y_pred))"
      ],
      "metadata": {
        "colab": {
          "base_uri": "https://localhost:8080/"
        },
        "id": "WZqqtxYAk8-g",
        "outputId": "d6e969af-2658-4269-cf2f-b951b251f36d"
      },
      "execution_count": 22,
      "outputs": [
        {
          "output_type": "stream",
          "name": "stdout",
          "text": [
            "Classification Report:\n",
            "              precision    recall  f1-score   support\n",
            "\n",
            "           0       0.91      0.06      0.11       163\n",
            "           1       0.52      0.32      0.40      1272\n",
            "           3       0.68      0.83      0.75      4750\n",
            "           4       1.00      1.00      1.00         1\n",
            "           5       1.00      0.86      0.92        14\n",
            "           6       1.00      0.48      0.65        27\n",
            "           7       0.58      0.49      0.53      2595\n",
            "\n",
            "    accuracy                           0.64      8822\n",
            "   macro avg       0.81      0.58      0.62      8822\n",
            "weighted avg       0.63      0.64      0.62      8822\n",
            "\n"
          ]
        }
      ]
    },
    {
      "cell_type": "code",
      "source": [
        "# Calculate feature importances\n",
        "feature_importances = pipeline.named_steps['classifier'].feature_importances_\n",
        "feature_importances\n",
        "# # Plot feature importances\n",
        "# plt.barh(range(len(feature_importances)), feature_importances, tick_label=num_cols + pipeline.named_steps['preprocessor'].named_transformers_['cat'].named_steps['onehot'].get_feature_names_out(cat_cols))\n",
        "# plt.xlabel('Feature Importance')\n",
        "# plt.title('Feature Importances')\n",
        "\n",
        "feature_names = []\n",
        "\n",
        "# Retrieve categorical feature names after one-hot encoding\n",
        "cat_feature_names = pipeline.named_steps['preprocessor']\\\n",
        "                             .named_transformers_['cat']\\\n",
        "                             .named_steps['onehot']\\\n",
        "                             .get_feature_names_out()\n",
        "\n",
        "# Append categorical feature names to the list of feature names\n",
        "feature_names.extend(cat_feature_names)\n",
        "\n",
        "# Append numeric feature names\n",
        "numeric_feature_names = num_cols  # numeric feature names\n",
        "feature_names.extend(numeric_feature_names)\n",
        "\n",
        "feature_df = pd.DataFrame({'Feature': feature_names, 'Importance': feature_importances}).sort_values(by='Importance')\n",
        "feature_df.plot.barh(x='Feature')"
      ],
      "metadata": {
        "colab": {
          "base_uri": "https://localhost:8080/",
          "height": 447
        },
        "id": "GiPw5D5aZg1p",
        "outputId": "9462372e-19f6-4b47-cbcd-47555a27105d"
      },
      "execution_count": 30,
      "outputs": [
        {
          "output_type": "execute_result",
          "data": {
            "text/plain": [
              "<Axes: ylabel='Feature'>"
            ]
          },
          "metadata": {},
          "execution_count": 30
        },
        {
          "output_type": "display_data",
          "data": {
            "text/plain": [
              "<Figure size 640x480 with 1 Axes>"
            ],
            "image/png": "[encoded data removed]"
          },
          "metadata": {}
        }
      ]
    },
    {
      "cell_type": "code",
      "source": [
        "# Create a legible confusion matrix\n",
        "le_name_mapping = dict(zip(label_encoder.classes_, label_encoder.transform(label_encoder.classes_)))\n",
        "swapped_map = {v: k for k, v in le_name_mapping.items()}\n",
        "vfunc = np.vectorize(lambda x: swapped_map.get(x, x))\n",
        "\n",
        "# Apply the mapping to the preds\n",
        "y_pred_mapped = vfunc(y_pred)\n",
        "# apply the mapping to the test set\n",
        "y_test_mapped = y_test.map(swapped_map)\n",
        "\n",
        "le_name_mapping = dict(zip(label_encoder.classes_, label_encoder.transform(label_encoder.classes_)))\n",
        "conf_matrix = confusion_matrix(y_test_mapped, y_pred_mapped)\n",
        "common_labels = set(y_test).intersection(y_pred)\n",
        "mapped_set = {swapped_map.get(value, value) for value in common_labels}\n",
        "\n",
        "# Plot confusion matrix using seaborn heatmap with common labels\n",
        "plt.figure(figsize=(10, 8))\n",
        "sns.heatmap(conf_matrix, annot=True, cmap='Blues', fmt='g',\n",
        "            xticklabels=sorted(mapped_set), yticklabels=sorted(mapped_set)\n",
        "            )\n",
        "plt.xlabel('Predicted')\n",
        "plt.ylabel('True')\n",
        "plt.title('Confusion Matrix')\n",
        "plt.show()"
      ],
      "metadata": {
        "colab": {
          "base_uri": "https://localhost:8080/",
          "height": 718
        },
        "id": "nqHc2AHQczZa",
        "outputId": "5a137067-41db-4172-afd8-ec6174d48543"
      },
      "execution_count": 31,
      "outputs": [
        {
          "output_type": "display_data",
          "data": {
            "text/plain": [
              "<Figure size 1000x800 with 2 Axes>"
            ],
            "image/png": "[encoded data removed]"
          },
          "metadata": {}
        }
      ]
    },
    {
      "cell_type": "markdown",
      "source": [
        "## Analysis\n",
        "Overall, we see an improvement in every performance metric. This suggests that, from the data we have, we can predict a pitcher's next pitch more accurately than by guessing.\n",
        "\n",
        "**Next Steps**\n",
        "With a proof of concept for Clayton Kershaw's pitching, Next steps include\n",
        "1. Enhance pre-pitch features\n",
        "2. Generalize steps taken above into a pipeline, test it on other pitchers\n",
        "3. Explore time-series modeling\n"
      ],
      "metadata": {
        "id": "qmzwq3t59XtC"
      }
    },
    {
      "cell_type": "code",
      "source": [],
      "metadata": {
        "id": "aWhdY6kC-JM3"
      },
      "execution_count": null,
      "outputs": []
    }
  ]
}